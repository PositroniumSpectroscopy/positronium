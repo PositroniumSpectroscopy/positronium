{
 "cells": [
  {
   "cell_type": "markdown",
   "metadata": {},
   "source": [
    "# Principal energy levels"
   ]
  },
  {
   "cell_type": "code",
   "execution_count": 1,
   "metadata": {
    "collapsed": true,
    "scrolled": true
   },
   "outputs": [],
   "source": [
    "# import packages\n",
    "import numpy as np\n",
    "import matplotlib.pyplot as plt\n",
    "%matplotlib inline\n",
    "from matplotlib.ticker import AutoMinorLocator\n",
    "from matplotlib import rcParams\n",
    "rcParams['ytick.direction'] = 'out'\n",
    "from positronium import Bohr"
   ]
  },
  {
   "cell_type": "code",
   "execution_count": 2,
   "metadata": {
    "collapsed": true
   },
   "outputs": [],
   "source": [
    "def n_plot(ax, n_min = 1, n_max=100, **kwargs):\n",
    "    en = Bohr.energy(float('inf'), np.arange(n_min, n_max), unit='eV')\n",
    "    ax.hlines(en, 0, 1, **kwargs)\n",
    "    return ax\n",
    "    \n",
    "def n_labels(ax, n_vals, x_pos, **kwargs):\n",
    "    labels = ['$n=\\infty$' if n == float('inf') else '$n=$%d'%n for n in n_vals]\n",
    "    for n, lbl in zip(n_vals, labels):\n",
    "        en = Bohr.energy(float('inf'), n, unit='eV')\n",
    "        ax.annotate(lbl, (x_pos, en), **kwargs)\n",
    "    return ax"
   ]
  },
  {
   "cell_type": "code",
   "execution_count": 3,
   "metadata": {},
   "outputs": [
    {
     "data": {
      "image/png": "[encoded data removed]",
      "text/plain": [
       "<matplotlib.figure.Figure at 0x1c9f367a940>"
      ]
     },
     "metadata": {},
     "output_type": "display_data"
    }
   ],
   "source": [
    "# plot setup\n",
    "fig, ax = plt.subplots(figsize=(4, 6))\n",
    "n_plot(ax, 1, 400, lw=2, color='black', alpha=0.3)\n",
    "n_labels(ax, [1, 2, 3, 4, float('inf')], 1.05, va='center', color='black')\n",
    "\n",
    "# format\n",
    "ax.set_ylabel(\"energy (eV)\")\n",
    "ax.set_xlim(-0.1, 1.2)\n",
    "ax.set_ylim(-7, 0)\n",
    "ax.set_xticks([])\n",
    "ax.spines['top'].set_visible(False)\n",
    "ax.spines['right'].set_visible(False)\n",
    "ax.spines['bottom'].set_visible(False)\n",
    "\n",
    "# output\n",
    "plt.tight_layout()\n",
    "plt.show()"
   ]
  },
  {
   "cell_type": "code",
   "execution_count": null,
   "metadata": {
    "collapsed": true
   },
   "outputs": [],
   "source": []
  }
 ],
 "metadata": {
  "kernelspec": {
   "display_name": "Python 3",
   "language": "python",
   "name": "python3"
  },
  "language_info": {
   "codemirror_mode": {
    "name": "ipython",
    "version": 3
   },
   "file_extension": ".py",
   "mimetype": "text/x-python",
   "name": "python",
   "nbconvert_exporter": "python",
   "pygments_lexer": "ipython3",
   "version": "3.6.3"
  }
 },
 "nbformat": 4,
 "nbformat_minor": 1
}
