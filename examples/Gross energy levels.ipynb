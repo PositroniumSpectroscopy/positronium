{
 "cells": [
  {
   "cell_type": "markdown",
   "metadata": {},
   "source": [
    "# Gross energy level structure\n",
    "\n",
    "Estimate the principle quantum energy levels of Ps using the Rydberg formula and the reduced mass ($\\mu = m_e/2$).\n",
    "\n",
    "$\\Delta E = \\frac{R_\\infty}{2} \\left(\\frac{1}{n_1^2} - \\frac{1}{n_2^2}\\right)$"
   ]
  },
  {
   "cell_type": "code",
   "execution_count": 1,
   "metadata": {
    "collapsed": false,
    "scrolled": true
   },
   "outputs": [],
   "source": [
    "# import packages\n",
    "import numpy as np\n",
    "import matplotlib.pyplot as plt\n",
    "%matplotlib inline\n",
    "from matplotlib.ticker import AutoMinorLocator\n",
    "from matplotlib import rcParams\n",
    "rcParams['ytick.direction'] = 'out'\n",
    "from positronium import Bohr"
   ]
  },
  {
   "cell_type": "code",
   "execution_count": 2,
   "metadata": {
    "collapsed": false
   },
   "outputs": [],
   "source": [
    "def n_plot(ax1, min_n = 1, max_n=100, **kwargs):\n",
    "    En = Bohr.energy(float('inf'), np.arange(min_n, max_n), unit='eV')\n",
    "    ax1.hlines(En, 0, 1, **kwargs)\n",
    "    \n",
    "def n_labels(ax1, labels, **kwargs):\n",
    "    lbl=np.array(labels)\n",
    "    ax2 = ax1.twinx()\n",
    "    ax2.set_yticks(Bohr.energy(float('inf'), lbl,  unit='eV'))\n",
    "    ax2.set_yticklabels(['$n=\\infty$' if x == float('inf') else '$n=$%d'%x for x in lbl])\n",
    "    ax2.set_ylim(ax1.get_ylim())\n",
    "    return ax1, ax2"
   ]
  },
  {
   "cell_type": "code",
   "execution_count": 3,
   "metadata": {
    "collapsed": false,
    "scrolled": true
   },
   "outputs": [
    {
     "data": {
      "image/png": "[encoded data removed]",
      "text/plain": [
       "<matplotlib.figure.Figure at 0x7f651105b0b8>"
      ]
     },
     "metadata": {},
     "output_type": "display_data"
    }
   ],
   "source": [
    "# plot setup\n",
    "fig, ax1 = plt.subplots(figsize=(3,5))\n",
    "n_plot(ax1, 1, 400, lw=2, color='g', alpha=0.3)\n",
    "# x-axis\n",
    "ax1.xaxis.set_visible(False)\n",
    "# y-axis\n",
    "minorLocator = AutoMinorLocator()\n",
    "ax1.yaxis.set_minor_locator(minorLocator)\n",
    "plt.tick_params(which='major', length=5)\n",
    "plt.tick_params(which='minor', length=3)\n",
    "ax1.set_ylabel('energy (eV)')\n",
    "# add labels\n",
    "ax1, ax2 = n_labels(ax1, [1, 2, 3, 4, float('inf')])\n",
    "ax2.tick_params(axis='y', labelcolor='g')\n",
    "plt.tick_params(which='major', length=0)\n",
    "plt.show()"
   ]
  },
  {
   "cell_type": "code",
   "execution_count": null,
   "metadata": {
    "collapsed": true
   },
   "outputs": [],
   "source": []
  }
 ],
 "metadata": {
  "kernelspec": {
   "display_name": "Python 3",
   "language": "python",
   "name": "python3"
  },
  "language_info": {
   "codemirror_mode": {
    "name": "ipython",
    "version": 3
   },
   "file_extension": ".py",
   "mimetype": "text/x-python",
   "name": "python",
   "nbconvert_exporter": "python",
   "pygments_lexer": "ipython3",
   "version": "3.5.1"
  }
 },
 "nbformat": 4,
 "nbformat_minor": 0
}
