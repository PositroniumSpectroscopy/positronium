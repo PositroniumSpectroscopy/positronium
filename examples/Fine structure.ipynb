{
 "cells": [
  {
   "cell_type": "markdown",
   "metadata": {},
   "source": [
    "# Fine structure"
   ]
  },
  {
   "cell_type": "code",
   "execution_count": 1,
   "metadata": {
    "collapsed": false
   },
   "outputs": [],
   "source": [
    "# load packages\n",
    "from IPython.display import Latex\n",
    "from positronium import Ps, Bohr\n",
    "from positronium.constants import h, frequency_hfs\n",
    "import matplotlib.pyplot as plt\n",
    "%matplotlib inline\n",
    "import numpy as np"
   ]
  },
  {
   "cell_type": "markdown",
   "metadata": {},
   "source": [
    "## hyperfine splitting of the ground state \n",
    "\n",
    "Estimate the ground-state hyperfine splitting interval, according to \n",
    "\n",
    "  > Richard A. Ferrell (1951) Phys. Rev. 84, 858\n",
    "\n",
    "  > http://dx.doi.org/10.1103/PhysRev.84.858\n",
    "\n",
    "This calculation does not include the Lamb shift/ radiative corrections."
   ]
  },
  {
   "cell_type": "code",
   "execution_count": 2,
   "metadata": {
    "collapsed": false
   },
   "outputs": [
    {
     "data": {
      "text/latex": [
       "$\\Delta E_{hfs} = 204.38663$ GHz"
      ],
      "text/plain": [
       "<IPython.core.display.Latex object>"
      ]
     },
     "execution_count": 2,
     "metadata": {},
     "output_type": "execute_result"
    }
   ],
   "source": [
    "# ortho-PS\n",
    "s131 = Ps(n=1, l=0, S=1)\n",
    "# para-Ps\n",
    "s110 = Ps(n=1, l=0, S=0)\n",
    "# splitting\n",
    "Latex('$\\Delta E_{hfs} = %.5f$ GHz' % (1e-9 * (s131.energy(unit='J') -\n",
    "                                               s110.energy(unit='J')) / h))"
   ]
  },
  {
   "cell_type": "markdown",
   "metadata": {},
   "source": [
    "This compares to the experimtal value of\n",
    "> M. W. Ritter, P. O. Egan, V. W. Hughes, and K. A. Woodle (1984) Phys. Rev. A 30, 1331\n",
    "\n",
    "> http://dx.doi.org/10.1103/PhysRevA.30.1331"
   ]
  },
  {
   "cell_type": "code",
   "execution_count": 3,
   "metadata": {
    "collapsed": false
   },
   "outputs": [
    {
     "data": {
      "text/latex": [
       "$\\Delta E_{hfs} = 203.38910 \\pm 0.00074$ GHz"
      ],
      "text/plain": [
       "<IPython.core.display.Latex object>"
      ]
     },
     "execution_count": 3,
     "metadata": {},
     "output_type": "execute_result"
    }
   ],
   "source": [
    "Latex('$\\Delta E_{hfs} = %.5f \\pm %.5f$ GHz'%(1e-9 * frequency_hfs, 1e-9 * frequency_hfs.uncertainty))"
   ]
  },
  {
   "cell_type": "markdown",
   "metadata": {},
   "source": [
    "## fine structure of $n=2$\n",
    "\n",
    "Use Ferrel's equation to estimate the $n=2$ fine structure energy levels.  This calculation is accurate to around 5 %.  For the results of more complete bound state QED calculations see,\n",
    "\n",
    "> Richard Ley (2002) Appl. Surf. Sci. 194, 301 \n",
    "\n",
    "> https://dx.doi.org/10.1016/S0169-4332(02)00139-3"
   ]
  },
  {
   "cell_type": "code",
   "execution_count": 4,
   "metadata": {
    "collapsed": false
   },
   "outputs": [
    {
     "data": {
      "image/png": "[encoded data removed]",
      "text/plain": [
       "<matplotlib.figure.Figure at 0x7fed553f94a8>"
      ]
     },
     "metadata": {},
     "output_type": "display_data"
    }
   ],
   "source": [
    "fig, ax = plt.subplots(figsize=(4, 5))\n",
    "\n",
    "# n=2\n",
    "ax.text(0.4,  -Bohr.energy(2, unit='eV') + 1e-6, '$n=2$',horizontalalignment='center', \n",
    "        verticalalignment='bottom', fontsize=14)\n",
    "\n",
    "# para\n",
    "## x coordinates for plotting\n",
    "para_state = np.array([2, 3])\n",
    "para_connector = np.array([0, 0.75, 1.5, 2])\n",
    "## S state\n",
    "s210 = Ps(n=2, l=0, S=0)\n",
    "## P state\n",
    "p211 = Ps(n=2, l=1, S=0)\n",
    "## plotting\n",
    "for singlet in [s210, p211]:\n",
    "    ax.plot(para_state, np.array([0,0]) + singlet.energy(unit='eV'), c='k', lw=5)\n",
    "    ax.plot(para_connector, np.array([Bohr.energy(float('inf'), 2, unit='eV'),\n",
    "                                      Bohr.energy(float('inf'), 2, unit='eV'),\n",
    "                                      singlet.energy(unit='eV'),\n",
    "                                      singlet.energy(unit='eV')]), c='k', lw=1)\n",
    "    # label\n",
    "    ax.text(3.1, singlet.energy(unit='eV'), singlet.tex(), verticalalignment='center', fontsize=16)\n",
    "\n",
    "# ortho\n",
    "## x coordinates for plotting\n",
    "ortho_state = np.array([4, 5])\n",
    "ortho_connector = np.array([0, 0.75, 1.5, 4])\n",
    "## S state\n",
    "s231 = Ps(n=2, l=0, S=1)\n",
    "## P states\n",
    "p232 = Ps(n=2, l=1, S=1, J=2)\n",
    "p231 = Ps(n=2, l=1, S=1, J=1)\n",
    "p230 = Ps(n=2, l=1, S=1, J=0)\n",
    "## plotting\n",
    "for triplet in [s231, p232, p231, p230]:\n",
    "    ax.plot(ortho_state, np.array([0,0]) + triplet.energy(unit='eV'), c='k', lw=5)\n",
    "    ax.plot(ortho_connector, np.array([Bohr.energy(float('inf'), 2, unit='eV'),\n",
    "                                       Bohr.energy(float('inf'), 2, unit='eV'),\n",
    "                                       triplet.energy(unit='eV'), \n",
    "                                       triplet.energy(unit='eV')]), c='k', lw=1)\n",
    "    # label\n",
    "    ax.text(5.1, triplet.energy(unit='eV'), triplet.tex(), verticalalignment='center', fontsize=16)\n",
    "\n",
    "# format\n",
    "ax.set_ylim(-1.7008, -1.700675)\n",
    "ax.set_yticks([])\n",
    "ax.set_xlim(0, 5)\n",
    "ax.set_xticks([2.5, 4.5])\n",
    "ax.set_xticklabels(['para', 'ortho'], fontsize=14)\n",
    "# spines\n",
    "ax.spines['right'].set_visible(False)\n",
    "ax.spines['top'].set_visible(False)\n",
    "ax.spines['left'].set_visible(False)\n",
    "ax.spines['bottom'].set_visible(False)\n",
    "ax.xaxis.set_tick_params(size=0)\n",
    "ax.yaxis.set_tick_params(size=0)\n",
    "ax.xaxis.tick_top()\n",
    "\n",
    "plt.show()"
   ]
  },
  {
   "cell_type": "code",
   "execution_count": 5,
   "metadata": {
    "collapsed": false
   },
   "outputs": [
    {
     "data": {
      "text/latex": [
       "$\\Delta E_{hfs} = 25.5483$ GHz"
      ],
      "text/plain": [
       "<IPython.core.display.Latex object>"
      ]
     },
     "execution_count": 5,
     "metadata": {},
     "output_type": "execute_result"
    }
   ],
   "source": [
    "# n=2, l=0, hyperfine splitting interval\n",
    "Latex('$\\Delta E_{hfs} = %.4f$ GHz' % (1e-9 * (s231.energy(unit='J') -\n",
    "                                               s210.energy(unit='J')) / h))"
   ]
  },
  {
   "cell_type": "code",
   "execution_count": null,
   "metadata": {
    "collapsed": true
   },
   "outputs": [],
   "source": []
  }
 ],
 "metadata": {
  "kernelspec": {
   "display_name": "Python 3",
   "language": "python",
   "name": "python3"
  },
  "language_info": {
   "codemirror_mode": {
    "name": "ipython",
    "version": 3
   },
   "file_extension": ".py",
   "mimetype": "text/x-python",
   "name": "python",
   "nbconvert_exporter": "python",
   "pygments_lexer": "ipython3",
   "version": "3.5.1"
  }
 },
 "nbformat": 4,
 "nbformat_minor": 0
}
