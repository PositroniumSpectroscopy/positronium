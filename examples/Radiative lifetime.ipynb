{
 "cells": [
  {
   "cell_type": "markdown",
   "metadata": {},
   "source": [
    "# Radiative lifetime\n",
    "\n",
    "Approximate the radiative lifetime for Ps using $\\tau (n, l) \\approx \\tau_0 n^3 l (l + 1)$, where $\\tau_0 = 3 \\hbar / (m_e \\alpha^5  c^2)$, from:\n",
    "\n",
    "\"Semiclassical estimation of the radiative mean lifetimes of hydrogenlike states\"\n",
    "\n",
    "Hermann Marxer and Larry Spruch (1990) Phys. Rev. A 43, 1268\n",
    "\n",
    "https://dx.doi.org/10.1103/PhysRevA.43.1268"
   ]
  },
  {
   "cell_type": "code",
   "execution_count": 1,
   "metadata": {
    "collapsed": true
   },
   "outputs": [],
   "source": [
    "import numpy as np\n",
    "import matplotlib.pyplot as plt\n",
    "%matplotlib inline\n",
    "from positronium import decay"
   ]
  },
  {
   "cell_type": "code",
   "execution_count": 2,
   "metadata": {
    "collapsed": false
   },
   "outputs": [],
   "source": [
    "n_vals = np.arange(10, 19)\n",
    "lifetime_F = decay.radiative(n_vals, 3, unit='us')\n",
    "lifetime_D = decay.radiative(n_vals, 2, unit='us')\n",
    "lifetime_P = decay.radiative(n_vals, 1, unit='us')"
   ]
  },
  {
   "cell_type": "code",
   "execution_count": 3,
   "metadata": {
    "collapsed": false
   },
   "outputs": [
    {
     "data": {
      "image/png": "[encoded data removed]",
      "text/plain": [
       "<matplotlib.figure.Figure at 0x7f3159999470>"
      ]
     },
     "metadata": {},
     "output_type": "display_data"
    }
   ],
   "source": [
    "fig, ax = plt.subplots()\n",
    "ax.plot(n_vals, lifetime_P, 's', label='$l$ = 1')\n",
    "ax.plot(n_vals, lifetime_D, 'o', label='$l$ = 2')\n",
    "ax.plot(n_vals, lifetime_F, '^', label='$l$ = 3')\n",
    "ax.set_xlabel('$n$')\n",
    "ax.set_ylabel('Radiative lifetime ($\\mu$s)')\n",
    "ax.set_ylim(0, 8)\n",
    "ax.set_xlim(9, 19)\n",
    "ax.legend(loc=0, numpoints=1, frameon=False)\n",
    "plt.show()"
   ]
  },
  {
   "cell_type": "code",
   "execution_count": null,
   "metadata": {
    "collapsed": true
   },
   "outputs": [],
   "source": []
  }
 ],
 "metadata": {
  "kernelspec": {
   "display_name": "Python 3",
   "language": "python",
   "name": "python3"
  },
  "language_info": {
   "codemirror_mode": {
    "name": "ipython",
    "version": 3
   },
   "file_extension": ".py",
   "mimetype": "text/x-python",
   "name": "python",
   "nbconvert_exporter": "python",
   "pygments_lexer": "ipython3",
   "version": "3.5.1"
  }
 },
 "nbformat": 4,
 "nbformat_minor": 0
}
