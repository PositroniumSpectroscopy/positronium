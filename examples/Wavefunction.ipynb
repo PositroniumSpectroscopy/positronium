{
 "cells": [
  {
   "cell_type": "markdown",
   "metadata": {},
   "source": [
    "# Schrödinger Wavefunction"
   ]
  },
  {
   "cell_type": "code",
   "execution_count": 1,
   "metadata": {
    "collapsed": true
   },
   "outputs": [],
   "source": [
    "import numpy as np\n",
    "import matplotlib.pyplot as plt\n",
    "%matplotlib inline\n",
    "from positronium import Ps"
   ]
  },
  {
   "cell_type": "code",
   "execution_count": 2,
   "metadata": {
    "collapsed": false
   },
   "outputs": [
    {
     "name": "stdout",
     "output_type": "stream",
     "text": [
      " wavefunction_nlm(r, theta, phi) = R_nl (r) * Y_lm (theta, phi)\n",
      "        \n",
      "            Solution to the Schrödinger equation for a charged particle in a\n",
      "            Coulomb potential centred at r=0.  Similar to the hydrogen\n",
      "            wavefuntion but rescaled by a factor of 2 due to the reduced mass\n",
      "            of positronium.\n",
      "            \n",
      "            Quantum Mechanics of one and two electron atoms,\n",
      "            H. A. Bethe and E. E. Salpeter 1957\n",
      "\n",
      "                r in units of the Bohr radius, a_0.\n",
      "\n",
      "            quantum numbers:\n",
      "                n, l, m\n",
      "        \n"
     ]
    }
   ],
   "source": [
    "print(Ps.wavefunction_nlm.__doc__)"
   ]
  },
  {
   "cell_type": "code",
   "execution_count": 3,
   "metadata": {
    "collapsed": false
   },
   "outputs": [
    {
     "data": {
      "image/png": "[encoded data removed]",
      "text/plain": [
       "<matplotlib.figure.Figure at 0x7fa6a9650d68>"
      ]
     },
     "metadata": {},
     "output_type": "display_data"
    }
   ],
   "source": [
    "# quantum state\n",
    "x1 = Ps(n=3, l=2, m=0, S=0)\n",
    "# plot bounds\n",
    "rads = np.linspace(0, 50)\n",
    "angs = np.linspace(0, 2*np.pi)\n",
    "r, theta = np.meshgrid(rads, angs)\n",
    "phi = 0\n",
    "# wavefunction\n",
    "wf = x1.wavefunction_nlm(r, theta, phi).real\n",
    "absmax = np.max(np.abs([wf.max(), wf.min()]))\n",
    "#plot\n",
    "fig, ax = plt.subplots(subplot_kw=dict(projection='polar'), figsize=(5, 5))\n",
    "n_contours = 12\n",
    "ax.contourf(theta, r, wf, n_contours, cmap='bwr', vmin = -absmax, vmax= absmax)\n",
    "# fill zero\n",
    "z_level = absmax / n_contours\n",
    "plt.contourf(theta, r, wf, [-z_level, z_level], colors='white')\n",
    "# format\n",
    "ax.set_title(x1.tex(), fontsize=18)\n",
    "ax.get_xaxis().set_visible(False)\n",
    "ax.get_yaxis().set_visible(False)\n",
    "plt.grid(False)\n",
    "ax.set_axis_off()\n",
    "plt.show()"
   ]
  },
  {
   "cell_type": "code",
   "execution_count": null,
   "metadata": {
    "collapsed": true
   },
   "outputs": [],
   "source": []
  }
 ],
 "metadata": {
  "kernelspec": {
   "display_name": "Python 3",
   "language": "python",
   "name": "python3"
  },
  "language_info": {
   "codemirror_mode": {
    "name": "ipython",
    "version": 3
   },
   "file_extension": ".py",
   "mimetype": "text/x-python",
   "name": "python",
   "nbconvert_exporter": "python",
   "pygments_lexer": "ipython3",
   "version": "3.5.1"
  }
 },
 "nbformat": 4,
 "nbformat_minor": 0
}
